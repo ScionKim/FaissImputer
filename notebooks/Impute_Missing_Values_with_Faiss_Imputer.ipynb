{
 "cells": [
  {
   "cell_type": "markdown",
   "id": "eade9e4d-1eee-4b0c-8a94-0fcdbfa384e5",
   "metadata": {},
   "source": [
    "# Imputing Missing Values with Faiss Imputer\n",
    "\n",
    "Welcome to this notebook that demonstrates how to use the `faiss-imputer` library to impute missing values in a DataFrame using the Faiss algorithm.\n",
    "\n",
    "## Introduction\n",
    "\n",
    "In the field of data preprocessing, handling missing values is a common challenge. The `faiss-imputer` library provides an innovative solution to this problem using the power of Faiss, a high-performance similarity search and clustering library developed by Facebook AI Research (FAIR).\n",
    "\n",
    "Faiss, the cornerstone of `faiss-imputer`, deserves special recognition. Developed by Facebook AI Research (FAIR), Faiss is a high-performance library designed for similarity search and clustering. It underpins `faiss-imputer`’s innovative approach to missing value imputation, providing a robust framework for efficient computations.\n",
    "\n",
    "## Faiss-Imputer: A Python Library for Missing Data Imputation\n",
    "\n",
    "`faiss-imputer` leverages the capabilities of Faiss to perform k-nearest neighbors imputation for missing values. This technique is particularly useful when dealing with datasets containing incomplete information. By imputing missing values based on similar data points, `faiss-imputer` enables data scientists and analysts to enhance the quality of their datasets and improve downstream analyses.\n",
    "\n",
    "## Example Overview\n",
    "\n",
    "In this notebook, I will walk through an example of using the `faiss-imputer` library to impute missing values in a synthetic dataset. I will generate a DataFrame with missing values, utilize the Faiss algorithm for imputation, and then compare the results with the original data. The aim is to showcase the effectiveness and efficiency of this innovative approach.\n",
    "\n",
    "## Library Source\n",
    "\n",
    "The `faiss-imputer` library used in this example can be found on GitHub: [FaissImputer Repository](https://github.com/ScionKim/FaissImputer).\n",
    "\n",
    "---\n",
    "\n",
    "Feel free to explore and experiment with the provided example code to gain a deeper understanding of how `faiss-imputer` can be a valuable addition to your data preprocessing toolkit. Let's dive into the example and witness the power of Faiss for missing data imputation!\n"
   ]
  },
  {
   "cell_type": "markdown",
   "id": "8d98e7c1-1675-4964-a914-82f0dbd43647",
   "metadata": {},
   "source": [
    "## Imports\n",
    "Let's start by importing the required libraries."
   ]
  },
  {
   "cell_type": "code",
   "execution_count": 1,
   "id": "de47da2e-338b-43bf-985b-231c294038cb",
   "metadata": {
    "tags": []
   },
   "outputs": [],
   "source": [
    "import numpy as np\n",
    "import pandas as pd\n",
    "from faiss_imputer import FaissImputer"
   ]
  },
  {
   "cell_type": "markdown",
   "id": "1cd6c999-756c-4c7c-9af0-f31427d5136b",
   "metadata": {},
   "source": [
    "## Data Preparation\n",
    "Next, I'll generate a random DataFrame with missing values and prepare it for imputation."
   ]
  },
  {
   "cell_type": "code",
   "execution_count": 2,
   "id": "a24613e3-10d4-47ef-a0c4-a990cb31aac7",
   "metadata": {
    "tags": []
   },
   "outputs": [
    {
     "name": "stdout",
     "output_type": "stream",
     "text": [
      "Original data frame:\n",
      "    A   B   C   D   E\n",
      "0  51  92  14  71  60\n",
      "1  20  82  86  74  74\n",
      "2  87  99  23   2  21\n",
      "3  52   1  87  29  37\n",
      "4   1  63  59  20  32\n",
      "5  75  57  21  88  48\n",
      "6  90  58  41  91  59\n",
      "7  79  14  61  61  46\n",
      "8  61  50  54  63   2\n",
      "9  50   6  20  72  38\n",
      "Data frame with missing values:\n",
      "    A     B   C     D   E\n",
      "0  51  92.0  14  71.0  60\n",
      "1  20   NaN  86   NaN  74\n",
      "2  87  99.0  23   2.0  21\n",
      "3  52   NaN  87   NaN  37\n",
      "4   1  63.0  59  20.0  32\n",
      "5  75  57.0  21  88.0  48\n",
      "6  90  58.0  41  91.0  59\n",
      "7  79  14.0  61  61.0  46\n",
      "8  61   NaN  54   NaN   2\n",
      "9  50   6.0  20  72.0  38\n"
     ]
    }
   ],
   "source": [
    "# Set the random seed for reproducibility\n",
    "np.random.seed(42)\n",
    "\n",
    "# Generate a random data frame with 10 rows and 5 columns\n",
    "df = pd.DataFrame(np.random.randint(0, 100, size=(10, 5)), columns=list('ABCDE'))\n",
    "\n",
    "# Print the original data frame\n",
    "print(\"Original data frame:\")\n",
    "print(df)\n",
    "\n",
    "# Introduce some missing values randomly\n",
    "df_missing = df.copy()\n",
    "df_missing.iloc[np.random.randint(0, 10, size=3), np.random.randint(0, 5, size=3)] = np.nan\n",
    "\n",
    "# Print the data frame with missing values\n",
    "print(\"Data frame with missing values:\")\n",
    "print(df_missing)"
   ]
  },
  {
   "cell_type": "markdown",
   "id": "9072d528-3e17-4482-9bc4-559ade660ec6",
   "metadata": {},
   "source": [
    "## Imputation with Faiss Imputer\n",
    "Now, I'll create an instance of FaissImputer and use it to impute missing values."
   ]
  },
  {
   "cell_type": "code",
   "execution_count": 3,
   "id": "b98abe28-776f-4696-95c5-62d929deac6c",
   "metadata": {
    "tags": []
   },
   "outputs": [],
   "source": [
    "# Create an instance of FaissImputer with default parameters\n",
    "imputer = FaissImputer(5, strategy='median')\n",
    "\n",
    "# Fit the imputer on the data frame with missing values\n",
    "imputer.fit(df_missing)\n",
    "\n",
    "# Transform the data frame with missing values\n",
    "df_imputed = imputer.transform(df_missing)"
   ]
  },
  {
   "cell_type": "markdown",
   "id": "7667ebd4-8f57-4308-81bc-e98b4fdc3a3b",
   "metadata": {},
   "source": [
    "## Results\n",
    "Finally, let's compare the imputed data frame with the original data frame to see how well the imputation worked."
   ]
  },
  {
   "cell_type": "code",
   "execution_count": 4,
   "id": "1880837d-e823-4805-bc2e-46a7374de76a",
   "metadata": {
    "tags": []
   },
   "outputs": [
    {
     "name": "stdout",
     "output_type": "stream",
     "text": [
      "Imputed data frame:\n",
      "[[51.  92.  14.  71.  60. ]\n",
      " [20.  77.5 86.  45.5 74. ]\n",
      " [87.  99.  23.   2.  21. ]\n",
      " [52.  63.  87.  71.  37. ]\n",
      " [ 1.  63.  59.  20.  32. ]\n",
      " [75.  57.  21.  88.  48. ]\n",
      " [90.  58.  41.  91.  59. ]\n",
      " [79.  14.  61.  61.  46. ]\n",
      " [61.  63.  54.  71.   2. ]\n",
      " [50.   6.  20.  72.  38. ]]\n",
      "Comparison:\n",
      "[['O' 'O' 'O' 'O' 'O']\n",
      " ['O' 'X' 'O' 'X' 'O']\n",
      " ['O' 'O' 'O' 'O' 'O']\n",
      " ['O' 'X' 'O' 'X' 'O']\n",
      " ['O' 'O' 'O' 'O' 'O']\n",
      " ['O' 'O' 'O' 'O' 'O']\n",
      " ['O' 'O' 'O' 'O' 'O']\n",
      " ['O' 'O' 'O' 'O' 'O']\n",
      " ['O' 'X' 'O' 'X' 'O']\n",
      " ['O' 'O' 'O' 'O' 'O']]\n"
     ]
    }
   ],
   "source": [
    "# Print the imputed data frame\n",
    "print(\"Imputed data frame:\")\n",
    "print(df_imputed)\n",
    "\n",
    "# Compare the imputed data frame with the original data frame\n",
    "print(\"Comparison:\")\n",
    "print(np.where(df_imputed == df, 'O', 'X'))"
   ]
  },
  {
   "cell_type": "markdown",
   "id": "18f652bb-063b-4cef-84d3-5a95422b1616",
   "metadata": {},
   "source": [
    "## Conclusion\n",
    "In this example, I demonstrated how to use the faiss-imputer library to impute missing values in a DataFrame using the Faiss algorithm. This technique can be helpful in various data preprocessing tasks."
   ]
  }
 ],
 "metadata": {
  "kernelspec": {
   "display_name": "Python 3 (ipykernel)",
   "language": "python",
   "name": "python3"
  },
  "language_info": {
   "codemirror_mode": {
    "name": "ipython",
    "version": 3
   },
   "file_extension": ".py",
   "mimetype": "text/x-python",
   "name": "python",
   "nbconvert_exporter": "python",
   "pygments_lexer": "ipython3",
   "version": "3.10.12"
  }
 },
 "nbformat": 4,
 "nbformat_minor": 5
}
